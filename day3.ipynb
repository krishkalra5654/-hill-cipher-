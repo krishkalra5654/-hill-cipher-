{
  "nbformat": 4,
  "nbformat_minor": 0,
  "metadata": {
    "colab": {
      "provenance": [],
      "authorship_tag": "ABX9TyMc1TjVm6VEIgfoLkPAaR+n",
      "include_colab_link": true
    },
    "kernelspec": {
      "name": "python3",
      "display_name": "Python 3"
    },
    "language_info": {
      "name": "python"
    }
  },
  "cells": [
    {
      "cell_type": "markdown",
      "metadata": {
        "id": "view-in-github",
        "colab_type": "text"
      },
      "source": [
        "<a href=\"https://colab.research.google.com/github/krishkalra5654/-hill-cipher-/blob/main/day3.ipynb\" target=\"_parent\"><img src=\"https://colab.research.google.com/assets/colab-badge.svg\" alt=\"Open In Colab\"/></a>"
      ]
    },
    {
      "cell_type": "code",
      "execution_count": 1,
      "metadata": {
        "colab": {
          "base_uri": "https://localhost:8080/"
        },
        "id": "SkaKh6VuGS9O",
        "outputId": "06d1ea07-563e-42ac-bd22-4a45e3480b99"
      },
      "outputs": [
        {
          "output_type": "stream",
          "name": "stdout",
          "text": [
            "[[3 3]\n",
            " [2 5]]\n"
          ]
        }
      ],
      "source": [
        "import numpy as np\n",
        "#defining the key matrix\n",
        "key_matrix = np.array([[3,3],\n",
        "                   [2,5]])\n",
        "print(key_matrix)"
      ]
    },
    {
      "cell_type": "code",
      "source": [
        "def letters_to_numbers(letters):\n",
        "    return [ord(char) - ord('A') for char in letters]\n"
      ],
      "metadata": {
        "id": "2oRKM5E1IUSw"
      },
      "execution_count": 2,
      "outputs": []
    },
    {
      "cell_type": "code",
      "source": [
        "def numbers_to_letters(numbers):\n",
        "    return ''.join(chr(num + ord('A')) for num in numbers)"
      ],
      "metadata": {
        "id": "YyskHSQeI4Gb"
      },
      "execution_count": 3,
      "outputs": []
    },
    {
      "cell_type": "code",
      "source": [
        "def hill_encrypt(plaintext , key_matrix):\n",
        "      plaintext_numbers = letters_to_numbers(plaintext)\n",
        "      plaintext_vector = np.array(plaintext_numbers).reshape(-1,2).T\n",
        "      ciphertext_vector = key_matrix.dot(plaintext_vector) % 26\n",
        "      ciphertext_numbers = ciphertext_vector.T.flatten()\n",
        "      return numbers_to_letters(ciphertext_numbers)\n",
        "\n",
        "def  hill_decrypt(ciphertext, key_matrix):\n",
        "    ciphertext_numbers = letters_to_numbers(ciphertext)\n",
        "    ciphertext_vector = np.array(ciphertext_numbers).reshape(-1, 2).T\n",
        "\n",
        "    # Calculate the determinant of the key matrix\n",
        "    det = int(np.round(np.linalg.det(key_matrix)))\n",
        "    det_inv = pow(det, -1, 26)\n",
        "\n",
        "    # Calculate the adjugate matrix\n",
        "    adjugate_matrix = np.round(det * np.linalg.inv(key_matrix)).astype(int) % 26\n",
        "\n",
        "    # Calculate the inverse key matrix\n",
        "    inverse_key_matrix = (det_inv * adjugate_matrix) % 26\n",
        "\n",
        "    plaintext_vector = np.dot(inverse_key_matrix, ciphertext_vector) % 26\n",
        "    plaintext_numbers = plaintext_vector.T.flatten()\n",
        "    return numbers_to_letters(plaintext_numbers)\n"
      ],
      "metadata": {
        "id": "y90a1uRLJmNj"
      },
      "execution_count": 7,
      "outputs": []
    },
    {
      "cell_type": "code",
      "source": [
        "#main\n",
        "plaintext = \"CLOSETHEGATE\"\n",
        "ciphertext = hill_encrypt(plaintext, key_matrix)\n",
        "print(f\"Plaintext: {plaintext}\")\n",
        "print(f\"Ciphertext: {ciphertext}\")\n",
        "decrypted_text = hill_decrypt(ciphertext, key_matrix)\n",
        "print(f\"Decrypted Text: {decrypted_text}\")"
      ],
      "metadata": {
        "colab": {
          "base_uri": "https://localhost:8080/"
        },
        "id": "mtyR-CeXNkia",
        "outputId": "a8009f10-79d3-4b42-86c2-32a1e3747ac9"
      },
      "execution_count": 12,
      "outputs": [
        {
          "output_type": "stream",
          "name": "stdout",
          "text": [
            "Plaintext: CLOSETHEGATE\n",
            "Ciphertext: NHSORZHISMRG\n",
            "Decrypted Text: CLOSETHEGATE\n"
          ]
        }
      ]
    }
  ]
}